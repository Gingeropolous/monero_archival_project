{
 "cells": [
  {
   "cell_type": "markdown",
   "metadata": {},
   "source": [
    "# Alt-chain temporal study\n",
    "## Monero Archival Project\n",
    "\n",
    "IsthmusCrypto 2018.07\n",
    "\n",
    "Here, alt-chain (\"block1\") data is compared against main-chain.\n",
    "\n",
    "Specifically, we note patterns in times between subsequent blocks.\n",
    "\n",
    "Objectives:\n",
    "-  What does the timing suggest regarding alternate chains\n",
    "-  If consistent timing within a given side chain, estimate hashpower\n",
    "-  If consistent timing across side chains, suggests single player\n",
    "-  Check to see if the hashpower sunk into side chains disappears from main chain"
   ]
  },
  {
   "cell_type": "markdown",
   "metadata": {},
   "source": [
    "## Import libraries"
   ]
  },
  {
   "cell_type": "code",
   "execution_count": 1,
   "metadata": {},
   "outputs": [],
   "source": [
    "import pandas as pd\n",
    "from copy import copy\n",
    "import datetime\n",
    "import numpy as np\n",
    "import matplotlib.pyplot as plt"
   ]
  },
  {
   "cell_type": "markdown",
   "metadata": {},
   "source": [
    "## Where are files saved?"
   ]
  },
  {
   "cell_type": "code",
   "execution_count": 2,
   "metadata": {},
   "outputs": [],
   "source": [
    "block0s_relative_path = 'altchain_logs/block0s.txt'\n",
    "block1s_relative_path = 'altchain_logs/block1s.txt'"
   ]
  },
  {
   "cell_type": "markdown",
   "metadata": {},
   "source": [
    "## Import files"
   ]
  },
  {
   "cell_type": "code",
   "execution_count": 3,
   "metadata": {},
   "outputs": [],
   "source": [
    "b0s_raw = pd.read_csv(block0s_relative_path)\n",
    "b1s_raw = pd.read_csv(block1s_relative_path)\n",
    "\n",
    "# Modify this version:\n",
    "b0s = copy(b0s_raw)\n",
    "b1s = copy(b1s_raw)\n",
    "\n",
    "b0s = b0s.sort_values('block_height')\n",
    "b1s = b1s.sort_values('block_height')\n",
    "\n",
    "pass"
   ]
  },
  {
   "cell_type": "markdown",
   "metadata": {},
   "source": [
    "### Sneak a peek at the data\n",
    "\n",
    "Typically, see duplicates.\n",
    "\n",
    "b0, or b1. Here, b1"
   ]
  },
  {
   "cell_type": "code",
   "execution_count": 4,
   "metadata": {},
   "outputs": [
    {
     "name": "stdout",
     "output_type": "stream",
     "text": [
      "<class 'pandas.core.frame.DataFrame'>\n"
     ]
    },
    {
     "data": {
      "text/html": [
       "<div>\n",
       "<style scoped>\n",
       "    .dataframe tbody tr th:only-of-type {\n",
       "        vertical-align: middle;\n",
       "    }\n",
       "\n",
       "    .dataframe tbody tr th {\n",
       "        vertical-align: top;\n",
       "    }\n",
       "\n",
       "    .dataframe thead th {\n",
       "        text-align: right;\n",
       "    }\n",
       "</style>\n",
       "<table border=\"1\" class=\"dataframe\">\n",
       "  <thead>\n",
       "    <tr style=\"text-align: right;\">\n",
       "      <th></th>\n",
       "      <th>block_time</th>\n",
       "      <th>block_height</th>\n",
       "      <th>block_nonce</th>\n",
       "      <th>block_random</th>\n",
       "    </tr>\n",
       "  </thead>\n",
       "  <tbody>\n",
       "    <tr>\n",
       "      <th>0</th>\n",
       "      <td>1522901487</td>\n",
       "      <td>1545098</td>\n",
       "      <td>2684357998</td>\n",
       "      <td>11314</td>\n",
       "    </tr>\n",
       "    <tr>\n",
       "      <th>1</th>\n",
       "      <td>1522901487</td>\n",
       "      <td>1545098</td>\n",
       "      <td>2684357998</td>\n",
       "      <td>11935</td>\n",
       "    </tr>\n",
       "    <tr>\n",
       "      <th>2</th>\n",
       "      <td>1522901487</td>\n",
       "      <td>1545098</td>\n",
       "      <td>2684357998</td>\n",
       "      <td>14423</td>\n",
       "    </tr>\n",
       "    <tr>\n",
       "      <th>3</th>\n",
       "      <td>1522901487</td>\n",
       "      <td>1545098</td>\n",
       "      <td>2684357998</td>\n",
       "      <td>16546</td>\n",
       "    </tr>\n",
       "    <tr>\n",
       "      <th>4</th>\n",
       "      <td>1522901487</td>\n",
       "      <td>1545098</td>\n",
       "      <td>2684357998</td>\n",
       "      <td>16865</td>\n",
       "    </tr>\n",
       "    <tr>\n",
       "      <th>5</th>\n",
       "      <td>1522901487</td>\n",
       "      <td>1545098</td>\n",
       "      <td>2684357998</td>\n",
       "      <td>17566</td>\n",
       "    </tr>\n",
       "    <tr>\n",
       "      <th>6</th>\n",
       "      <td>1522901487</td>\n",
       "      <td>1545098</td>\n",
       "      <td>2684357998</td>\n",
       "      <td>19975</td>\n",
       "    </tr>\n",
       "    <tr>\n",
       "      <th>7</th>\n",
       "      <td>1522901487</td>\n",
       "      <td>1545098</td>\n",
       "      <td>2684357998</td>\n",
       "      <td>24988</td>\n",
       "    </tr>\n",
       "    <tr>\n",
       "      <th>8</th>\n",
       "      <td>1522901487</td>\n",
       "      <td>1545098</td>\n",
       "      <td>2684357998</td>\n",
       "      <td>27186</td>\n",
       "    </tr>\n",
       "    <tr>\n",
       "      <th>9</th>\n",
       "      <td>1522901487</td>\n",
       "      <td>1545098</td>\n",
       "      <td>2684357998</td>\n",
       "      <td>27796</td>\n",
       "    </tr>\n",
       "    <tr>\n",
       "      <th>10</th>\n",
       "      <td>1522901487</td>\n",
       "      <td>1545098</td>\n",
       "      <td>2684357998</td>\n",
       "      <td>30751</td>\n",
       "    </tr>\n",
       "    <tr>\n",
       "      <th>11</th>\n",
       "      <td>1522901487</td>\n",
       "      <td>1545098</td>\n",
       "      <td>2684357998</td>\n",
       "      <td>3800</td>\n",
       "    </tr>\n",
       "    <tr>\n",
       "      <th>12</th>\n",
       "      <td>1522901487</td>\n",
       "      <td>1545098</td>\n",
       "      <td>2684357998</td>\n",
       "      <td>7071</td>\n",
       "    </tr>\n",
       "    <tr>\n",
       "      <th>13</th>\n",
       "      <td>1522901487</td>\n",
       "      <td>1545098</td>\n",
       "      <td>2684357998</td>\n",
       "      <td>8118</td>\n",
       "    </tr>\n",
       "    <tr>\n",
       "      <th>14</th>\n",
       "      <td>1523003051</td>\n",
       "      <td>1546000</td>\n",
       "      <td>570430823</td>\n",
       "      <td>10003</td>\n",
       "    </tr>\n",
       "    <tr>\n",
       "      <th>15</th>\n",
       "      <td>1523003051</td>\n",
       "      <td>1546000</td>\n",
       "      <td>570430823</td>\n",
       "      <td>10011</td>\n",
       "    </tr>\n",
       "    <tr>\n",
       "      <th>16</th>\n",
       "      <td>1523003051</td>\n",
       "      <td>1546000</td>\n",
       "      <td>570430823</td>\n",
       "      <td>10129</td>\n",
       "    </tr>\n",
       "    <tr>\n",
       "      <th>17</th>\n",
       "      <td>1523003051</td>\n",
       "      <td>1546000</td>\n",
       "      <td>570430823</td>\n",
       "      <td>10306</td>\n",
       "    </tr>\n",
       "    <tr>\n",
       "      <th>18</th>\n",
       "      <td>1523003051</td>\n",
       "      <td>1546000</td>\n",
       "      <td>570430823</td>\n",
       "      <td>10364</td>\n",
       "    </tr>\n",
       "    <tr>\n",
       "      <th>19</th>\n",
       "      <td>1523003051</td>\n",
       "      <td>1546000</td>\n",
       "      <td>570430823</td>\n",
       "      <td>10397</td>\n",
       "    </tr>\n",
       "  </tbody>\n",
       "</table>\n",
       "</div>"
      ],
      "text/plain": [
       "    block_time  block_height  block_nonce  block_random\n",
       "0   1522901487       1545098   2684357998         11314\n",
       "1   1522901487       1545098   2684357998         11935\n",
       "2   1522901487       1545098   2684357998         14423\n",
       "3   1522901487       1545098   2684357998         16546\n",
       "4   1522901487       1545098   2684357998         16865\n",
       "5   1522901487       1545098   2684357998         17566\n",
       "6   1522901487       1545098   2684357998         19975\n",
       "7   1522901487       1545098   2684357998         24988\n",
       "8   1522901487       1545098   2684357998         27186\n",
       "9   1522901487       1545098   2684357998         27796\n",
       "10  1522901487       1545098   2684357998         30751\n",
       "11  1522901487       1545098   2684357998          3800\n",
       "12  1522901487       1545098   2684357998          7071\n",
       "13  1522901487       1545098   2684357998          8118\n",
       "14  1523003051       1546000    570430823         10003\n",
       "15  1523003051       1546000    570430823         10011\n",
       "16  1523003051       1546000    570430823         10129\n",
       "17  1523003051       1546000    570430823         10306\n",
       "18  1523003051       1546000    570430823         10364\n",
       "19  1523003051       1546000    570430823         10397"
      ]
     },
     "execution_count": 4,
     "metadata": {},
     "output_type": "execute_result"
    }
   ],
   "source": [
    "print(type(b1s_raw))\n",
    "b1s_raw[0:20]"
   ]
  },
  {
   "cell_type": "markdown",
   "metadata": {},
   "source": [
    "## De-duplicate"
   ]
  },
  {
   "cell_type": "code",
   "execution_count": 5,
   "metadata": {},
   "outputs": [
    {
     "data": {
      "text/html": [
       "<div>\n",
       "<style scoped>\n",
       "    .dataframe tbody tr th:only-of-type {\n",
       "        vertical-align: middle;\n",
       "    }\n",
       "\n",
       "    .dataframe tbody tr th {\n",
       "        vertical-align: top;\n",
       "    }\n",
       "\n",
       "    .dataframe thead th {\n",
       "        text-align: right;\n",
       "    }\n",
       "</style>\n",
       "<table border=\"1\" class=\"dataframe\">\n",
       "  <thead>\n",
       "    <tr style=\"text-align: right;\">\n",
       "      <th></th>\n",
       "      <th>block_time</th>\n",
       "      <th>block_height</th>\n",
       "      <th>block_nonce</th>\n",
       "    </tr>\n",
       "  </thead>\n",
       "  <tbody>\n",
       "    <tr>\n",
       "      <th>0</th>\n",
       "      <td>1522901487</td>\n",
       "      <td>1545098</td>\n",
       "      <td>2684357998</td>\n",
       "    </tr>\n",
       "    <tr>\n",
       "      <th>439</th>\n",
       "      <td>1523003051</td>\n",
       "      <td>1546000</td>\n",
       "      <td>570430823</td>\n",
       "    </tr>\n",
       "    <tr>\n",
       "      <th>648</th>\n",
       "      <td>1523337099</td>\n",
       "      <td>1547963</td>\n",
       "      <td>2139397</td>\n",
       "    </tr>\n",
       "    <tr>\n",
       "      <th>654</th>\n",
       "      <td>1525032170</td>\n",
       "      <td>1562061</td>\n",
       "      <td>3579158795</td>\n",
       "    </tr>\n",
       "    <tr>\n",
       "      <th>655</th>\n",
       "      <td>1525032261</td>\n",
       "      <td>1562062</td>\n",
       "      <td>2970728396</td>\n",
       "    </tr>\n",
       "    <tr>\n",
       "      <th>660</th>\n",
       "      <td>1525219207</td>\n",
       "      <td>1563626</td>\n",
       "      <td>668103</td>\n",
       "    </tr>\n",
       "    <tr>\n",
       "      <th>666</th>\n",
       "      <td>1525470502</td>\n",
       "      <td>1565690</td>\n",
       "      <td>589661</td>\n",
       "    </tr>\n",
       "    <tr>\n",
       "      <th>667</th>\n",
       "      <td>1525470534</td>\n",
       "      <td>1565691</td>\n",
       "      <td>358009781</td>\n",
       "    </tr>\n",
       "    <tr>\n",
       "      <th>678</th>\n",
       "      <td>1525470959</td>\n",
       "      <td>1565692</td>\n",
       "      <td>2863312291</td>\n",
       "    </tr>\n",
       "    <tr>\n",
       "      <th>679</th>\n",
       "      <td>1525472810</td>\n",
       "      <td>1565693</td>\n",
       "      <td>1073825901</td>\n",
       "    </tr>\n",
       "    <tr>\n",
       "      <th>689</th>\n",
       "      <td>1525473108</td>\n",
       "      <td>1565694</td>\n",
       "      <td>20355</td>\n",
       "    </tr>\n",
       "    <tr>\n",
       "      <th>691</th>\n",
       "      <td>1525474474</td>\n",
       "      <td>1565695</td>\n",
       "      <td>4715644</td>\n",
       "    </tr>\n",
       "    <tr>\n",
       "      <th>702</th>\n",
       "      <td>1525474913</td>\n",
       "      <td>1565696</td>\n",
       "      <td>249376</td>\n",
       "    </tr>\n",
       "    <tr>\n",
       "      <th>706</th>\n",
       "      <td>1525474950</td>\n",
       "      <td>1565697</td>\n",
       "      <td>2668814428</td>\n",
       "    </tr>\n",
       "    <tr>\n",
       "      <th>709</th>\n",
       "      <td>1525475035</td>\n",
       "      <td>1565698</td>\n",
       "      <td>3095369266</td>\n",
       "    </tr>\n",
       "    <tr>\n",
       "      <th>715</th>\n",
       "      <td>1525477756</td>\n",
       "      <td>1565699</td>\n",
       "      <td>693214</td>\n",
       "    </tr>\n",
       "    <tr>\n",
       "      <th>725</th>\n",
       "      <td>1525477957</td>\n",
       "      <td>1565700</td>\n",
       "      <td>84006145</td>\n",
       "    </tr>\n",
       "    <tr>\n",
       "      <th>727</th>\n",
       "      <td>1525478266</td>\n",
       "      <td>1565701</td>\n",
       "      <td>5596918</td>\n",
       "    </tr>\n",
       "    <tr>\n",
       "      <th>738</th>\n",
       "      <td>1525478894</td>\n",
       "      <td>1565702</td>\n",
       "      <td>49559</td>\n",
       "    </tr>\n",
       "    <tr>\n",
       "      <th>739</th>\n",
       "      <td>1525480602</td>\n",
       "      <td>1565703</td>\n",
       "      <td>107129</td>\n",
       "    </tr>\n",
       "  </tbody>\n",
       "</table>\n",
       "</div>"
      ],
      "text/plain": [
       "     block_time  block_height  block_nonce\n",
       "0    1522901487       1545098   2684357998\n",
       "439  1523003051       1546000    570430823\n",
       "648  1523337099       1547963      2139397\n",
       "654  1525032170       1562061   3579158795\n",
       "655  1525032261       1562062   2970728396\n",
       "660  1525219207       1563626       668103\n",
       "666  1525470502       1565690       589661\n",
       "667  1525470534       1565691    358009781\n",
       "678  1525470959       1565692   2863312291\n",
       "679  1525472810       1565693   1073825901\n",
       "689  1525473108       1565694        20355\n",
       "691  1525474474       1565695      4715644\n",
       "702  1525474913       1565696       249376\n",
       "706  1525474950       1565697   2668814428\n",
       "709  1525475035       1565698   3095369266\n",
       "715  1525477756       1565699       693214\n",
       "725  1525477957       1565700     84006145\n",
       "727  1525478266       1565701      5596918\n",
       "738  1525478894       1565702        49559\n",
       "739  1525480602       1565703       107129"
      ]
     },
     "execution_count": 5,
     "metadata": {},
     "output_type": "execute_result"
    }
   ],
   "source": [
    "b0s.drop(['block_random'],1,inplace=True)\n",
    "b0s=b0s.drop_duplicates()\n",
    "\n",
    "b1s.drop(['block_random'],1,inplace=True)\n",
    "b1s=b1s.drop_duplicates()\n",
    "b1s[0:20]"
   ]
  },
  {
   "cell_type": "markdown",
   "metadata": {},
   "source": [
    "## Generate differenece coulmns"
   ]
  },
  {
   "cell_type": "code",
   "execution_count": 6,
   "metadata": {},
   "outputs": [],
   "source": [
    "b0s['delta_height'] = b0s['block_height']-b0s['block_height'].shift()\n",
    "b0s['delta_time'] = b0s['block_time']-b0s['block_time'].shift()\n",
    "\n",
    "b1s['delta_height'] = b1s['block_height']-b1s['block_height'].shift()\n",
    "b1s['delta_time'] = b1s['block_time']-b1s['block_time'].shift()"
   ]
  },
  {
   "cell_type": "markdown",
   "metadata": {},
   "source": [
    "## Drop rows with jumps (delta_height > 1)"
   ]
  },
  {
   "cell_type": "code",
   "execution_count": 7,
   "metadata": {},
   "outputs": [],
   "source": [
    "b0s = b0s[b0s.delta_height == 1]\n",
    "b1s = b1s[b1s.delta_height == 1]"
   ]
  },
  {
   "cell_type": "markdown",
   "metadata": {},
   "source": [
    "## What are we left with?"
   ]
  },
  {
   "cell_type": "code",
   "execution_count": 8,
   "metadata": {},
   "outputs": [
    {
     "name": "stdout",
     "output_type": "stream",
     "text": [
      "Retained 17914 main-chain blocks\n",
      "Retained 190 side-chain blocks\n"
     ]
    }
   ],
   "source": [
    "print('Retained ' + str(len(b0s)) + ' main-chain blocks')\n",
    "print('Retained ' + str(len(b1s)) + ' side-chain blocks')"
   ]
  },
  {
   "cell_type": "markdown",
   "metadata": {},
   "source": [
    "## Study block times"
   ]
  },
  {
   "cell_type": "code",
   "execution_count": 9,
   "metadata": {},
   "outputs": [
    {
     "name": "stdout",
     "output_type": "stream",
     "text": [
      "Main-chain blocks come with mean time: 120 seconds = 2.0 min\n",
      "Side-chain blocks come with mean time: 6254 seconds = 104.2 min\n"
     ]
    }
   ],
   "source": [
    "b0_mean_time_s = np.mean(b0s.delta_time)\n",
    "b1_mean_time_s = np.mean(b1s.delta_time)\n",
    "\n",
    "print('Main-chain blocks come with mean time: ' + str(round(b0_mean_time_s)) + ' seconds = ' + str(round(b0_mean_time_s/60,1)) + ' min')\n",
    "print('Side-chain blocks come with mean time: ' + str(round(b1_mean_time_s)) + ' seconds = ' + str(round(b1_mean_time_s/60,1)) + ' min')"
   ]
  },
  {
   "cell_type": "markdown",
   "metadata": {},
   "source": [
    "### Visualize In terms of seconds"
   ]
  },
  {
   "cell_type": "code",
   "execution_count": null,
   "metadata": {
    "scrolled": true
   },
   "outputs": [],
   "source": [
    "fig = plt.figure(figsize=(15,15))\n",
    "ax1 = fig.add_subplot(211)\n",
    "ax1.set_xlabel('time (seconds)')\n",
    "ax1.set_ylabel('frequency')\n",
    "ax1.set_title('discovery time of sequential main-chain blocks')\n",
    "plt.hist(b0s.delta_time, bins=range(0,600,10))\n",
    "ax1.set_xlim((0,600))\n",
    "ax2 = fig.add_subplot(212)\n",
    "plt.hist(b1s.delta_time, bins=range(0,50000,250))\n",
    "ax2.set_xlabel('time (seconds)')\n",
    "ax2.set_ylabel('frequency')\n",
    "ax2.set_title('discovery time of sequential side-chain blocks')\n",
    "ax2.set_xlim((0,50000))\n",
    "pass"
   ]
  },
  {
   "cell_type": "markdown",
   "metadata": {},
   "source": [
    "## Plot discovery time as a function of length of side chain"
   ]
  },
  {
   "cell_type": "markdown",
   "metadata": {},
   "source": [
    "Comparing temporal patterns among different side chains"
   ]
  },
  {
   "cell_type": "code",
   "execution_count": null,
   "metadata": {},
   "outputs": [],
   "source": [
    "b1s['side_chain_ID'] = 0\n",
    "b1s['terminal_block']= 0 # is this the last block in the side-chain?\n",
    "b1s['side_chain_length'] = b1s['block_height']-b1s['block_height'].shift() # how long did this side-chain get?\n",
    "b1s['side_chain_time'] = 0"
   ]
  },
  {
   "cell_type": "code",
   "execution_count": null,
   "metadata": {},
   "outputs": [],
   "source": [
    "b1s = b1s.reset_index()\n",
    "b1s.drop(['index','delta_height'], 1, inplace=True)\n",
    "b1s.side_chain_length[0] = 0 # since we don't know what preceded\n",
    "b1s.head()"
   ]
  },
  {
   "cell_type": "code",
   "execution_count": null,
   "metadata": {},
   "outputs": [],
   "source": [
    "side_chain_counter = 0\n",
    "for index, row in b1s.iterrows():\n",
    "    \n",
    "    this_row_val = b1s.side_chain_length[index]\n",
    "    \n",
    "    # print('index: ' + str(index) + ' this_row_val: ' + str(this_row_val))\n",
    "    \n",
    "    # Mark how far down this chain we've gotten\n",
    "    if this_row_val > 1:\n",
    "        # first block in the side-chain\n",
    "        b1s.side_chain_length[index] = 1\n",
    "        b1s.terminal_block[index-1] = 1\n",
    "        side_chain_counter = side_chain_counter + 1 # increment the counter\n",
    "        b1s.side_chain_ID[index] = side_chain_counter # mark the counter\n",
    "    else:\n",
    "        # subsequent block\n",
    "        if index > 0:\n",
    "            b1s.side_chain_length[index] = b1s.side_chain_length[index-1]+1\n",
    "            delta_t_seconds = b1s.block_time[index] - b1s.block_time[index-1]\n",
    "            b1s.side_chain_time[index] = b1s.side_chain_time[index-1] + delta_t_seconds\n",
    "            b1s.side_chain_ID[index] = side_chain_counter"
   ]
  },
  {
   "cell_type": "markdown",
   "metadata": {},
   "source": [
    "### Check out our new features"
   ]
  },
  {
   "cell_type": "markdown",
   "metadata": {},
   "source": [
    "Let's look at 24 of the peculiar long side chains\n",
    "\n",
    "For each side chain, I mark a point for each block indicating the length of the chain in both blocks (x-axis) and time (y-axis)\n",
    "\n",
    "This fingerprints the producers of side chains by their hash power (slope of the line proportional to that entity's hash rate)\n",
    "\n",
    "The red line shows 2-minutes per block, so any entity producing blocks near that speed can feasibly overtake the main chain. The further a side chain is from the red line, the more exponentially improbable it becomes."
   ]
  },
  {
   "cell_type": "markdown",
   "metadata": {},
   "source": [
    "Let's take a look at the first 20 blocks:"
   ]
  },
  {
   "cell_type": "code",
   "execution_count": null,
   "metadata": {},
   "outputs": [],
   "source": [
    "max_chain_length = 20\n",
    "max_chain_time = 25000\n",
    "\n",
    "norm_block_time = 120 # seconds\n",
    "\n",
    "fig = plt.figure(figsize=(10,6), dpi=100)\n",
    "plt.scatter(b1s.side_chain_length, b1s.side_chain_time+1, c=b1s.side_chain_ID, cmap='tab20')\n",
    "fig.suptitle('Looking at side chain lengths and time, all blocks')\n",
    "plt.xlabel('Nth block of the side chain')\n",
    "plt.ylabel('Accumulated time (seconds)')\n",
    "plt.xlim((0,max_chain_length))\n",
    "plt.ylim((0,max_chain_time))\n",
    "\n",
    "for i, txt in enumerate(b1s.side_chain_ID):\n",
    "    # print(i)\n",
    "    X = b1s.side_chain_length[i]\n",
    "    Y = b1s.side_chain_time[i]\n",
    "    S = b1s.side_chain_ID[i]\n",
    "    # print(\"X = \" + str(X), \" // Y = \" + str(Y) + \" // S = \" + str(S))\n",
    "    if i > 0 and X <= max_chain_length and Y <= max_chain_time:\n",
    "        plt.text(X,Y,S)\n",
    "        \n",
    "# Add on a regular rate\n",
    "plt.plot((0,max_chain_length), (0, max_chain_length*norm_block_time), c='red')"
   ]
  },
  {
   "cell_type": "markdown",
   "metadata": {},
   "source": [
    "Wow, definitely a few players causing many of the side chains... {#1, #6(?), #7} and {#4, #9}\n",
    "\n",
    "\n",
    "\n",
    "Entity with side chain #6 may have pulled off successful 51% attacks already. \n",
    "\n",
    "Who could have that much hash power? And these are all since July when we were supposedly rid of ASICs.... "
   ]
  },
  {
   "cell_type": "markdown",
   "metadata": {},
   "source": [
    "... By the way one of the chains was 70 blocks long! \n",
    "\n",
    "*(zooming out on the previous plot)*"
   ]
  },
  {
   "cell_type": "code",
   "execution_count": null,
   "metadata": {},
   "outputs": [],
   "source": [
    "fig = plt.figure(figsize=(10,6), dpi=100)\n",
    "plt.scatter(b1s.side_chain_length, b1s.side_chain_time+1, c=b1s.side_chain_ID, cmap='tab10')\n",
    "fig.suptitle('Looking at side chain lengths and time, all blocks')\n",
    "plt.xlabel('Nth block of the side chain')\n",
    "plt.ylabel('Accumulated time (seconds)')\n",
    "plt.axis('tight')"
   ]
  },
  {
   "cell_type": "markdown",
   "metadata": {},
   "source": [
    "## Let's manually check out whether the network lost hash power during {#1, #6, and #7}"
   ]
  },
  {
   "cell_type": "code",
   "execution_count": null,
   "metadata": {},
   "outputs": [],
   "source": [
    "import time\n",
    "\n",
    "\n",
    "for i, x in enumerate(b1s.side_chain_ID.unique()):\n",
    "    #print('Side chain #' + str(i) + ' median time: ', + np.median(b1s.block_time[b1s.side_chain_ID==i]))\n",
    "    print('Side chain #' + str(i) + ' median time: ' + time.strftime('%Y-%m-%d %H:%M:%S', time.localtime(np.median(b1s.block_time[b1s.side_chain_ID==i]))))"
   ]
  },
  {
   "cell_type": "markdown",
   "metadata": {},
   "source": [
    "## How long do these side chains persist?"
   ]
  },
  {
   "cell_type": "code",
   "execution_count": null,
   "metadata": {},
   "outputs": [],
   "source": [
    "fig = plt.figure(figsize=(15,15))\n",
    "ax1 = fig.add_subplot(211)\n",
    "ax1.set_xlabel('side-chain length')\n",
    "ax1.set_ylabel('frequency')\n",
    "ax1.set_title('How long are the side chains (length)')\n",
    "plt.hist(b1s.side_chain_length[b1s.terminal_block==1])\n",
    "\n",
    "ax2 = fig.add_subplot(212)\n",
    "plt.hist(b1s.side_chain_time[b1s.terminal_block==1],bins=range(0,65000,2500))\n",
    "ax2.set_xlabel('time (seconds)')\n",
    "ax2.set_ylabel('frequency')\n",
    "ax2.set_title('How long are the side chains (time)')\n"
   ]
  }
 ],
 "metadata": {
  "kernelspec": {
   "display_name": "Python 3",
   "language": "python",
   "name": "python3"
  },
  "language_info": {
   "codemirror_mode": {
    "name": "ipython",
    "version": 3
   },
   "file_extension": ".py",
   "mimetype": "text/x-python",
   "name": "python",
   "nbconvert_exporter": "python",
   "pygments_lexer": "ipython3",
   "version": "3.6.5"
  }
 },
 "nbformat": 4,
 "nbformat_minor": 2
}
