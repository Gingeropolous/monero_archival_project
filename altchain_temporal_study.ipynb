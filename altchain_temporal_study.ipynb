{
 "cells": [
  {
   "cell_type": "markdown",
   "metadata": {},
   "source": [
    "# Alt-chain temporal study\n",
    "## Monero Archival Project\n",
    "\n",
    "IsthmusCrypto 2018.07\n",
    "\n",
    "Here, alt-chain (\"block1\") data is compared against main-chain.\n",
    "\n",
    "Specifically, we note patterns in times between subsequent blocks.\n",
    "\n",
    "Objectives:\n",
    "-  What does the timing suggest regarding alternate chains\n",
    "-  If consistent timing within a given side chain, estimate hashpower\n",
    "-  If consistent timing across side chains, suggests single player\n",
    "-  Check to see if the hashpower sunk into side chains disappears from main chain"
   ]
  },
  {
   "cell_type": "markdown",
   "metadata": {},
   "source": [
    "## Import libraries"
   ]
  },
  {
   "cell_type": "code",
   "execution_count": 1,
   "metadata": {},
   "outputs": [],
   "source": [
    "import pandas as pd\n",
    "from copy import copy\n",
    "import datetime\n",
    "import numpy as np\n",
    "import matplotlib.pyplot as plt"
   ]
  },
  {
   "cell_type": "markdown",
   "metadata": {},
   "source": [
    "## Where are files saved?"
   ]
  },
  {
   "cell_type": "code",
   "execution_count": 2,
   "metadata": {},
   "outputs": [],
   "source": [
    "block0s_relative_path = 'altchain_logs/block0s.txt'\n",
    "block1s_relative_path = 'altchain_logs/block1s.txt'"
   ]
  },
  {
   "cell_type": "markdown",
   "metadata": {},
   "source": [
    "## Import files"
   ]
  },
  {
   "cell_type": "code",
   "execution_count": 3,
   "metadata": {},
   "outputs": [],
   "source": [
    "b0s_raw = pd.read_csv(block0s_relative_path)\n",
    "b1s_raw = pd.read_csv(block1s_relative_path)\n",
    "\n",
    "# Modify this version:\n",
    "b0s = copy(b0s_raw)\n",
    "b1s = copy(b1s_raw)"
   ]
  },
  {
   "cell_type": "markdown",
   "metadata": {},
   "source": [
    "### Sneak a peek at the data\n",
    "\n",
    "Typically, see duplicates.\n",
    "\n",
    "b0, or b1. Here, b1"
   ]
  },
  {
   "cell_type": "code",
   "execution_count": 4,
   "metadata": {},
   "outputs": [
    {
     "name": "stdout",
     "output_type": "stream",
     "text": [
      "<class 'pandas.core.frame.DataFrame'>\n"
     ]
    },
    {
     "data": {
      "text/html": [
       "<div>\n",
       "<style scoped>\n",
       "    .dataframe tbody tr th:only-of-type {\n",
       "        vertical-align: middle;\n",
       "    }\n",
       "\n",
       "    .dataframe tbody tr th {\n",
       "        vertical-align: top;\n",
       "    }\n",
       "\n",
       "    .dataframe thead th {\n",
       "        text-align: right;\n",
       "    }\n",
       "</style>\n",
       "<table border=\"1\" class=\"dataframe\">\n",
       "  <thead>\n",
       "    <tr style=\"text-align: right;\">\n",
       "      <th></th>\n",
       "      <th>block_time</th>\n",
       "      <th>block_height</th>\n",
       "      <th>block_nonce</th>\n",
       "      <th>block_random</th>\n",
       "    </tr>\n",
       "  </thead>\n",
       "  <tbody>\n",
       "    <tr>\n",
       "      <th>0</th>\n",
       "      <td>1522901487</td>\n",
       "      <td>1545098</td>\n",
       "      <td>2684357998</td>\n",
       "      <td>11314</td>\n",
       "    </tr>\n",
       "    <tr>\n",
       "      <th>1</th>\n",
       "      <td>1522901487</td>\n",
       "      <td>1545098</td>\n",
       "      <td>2684357998</td>\n",
       "      <td>11935</td>\n",
       "    </tr>\n",
       "    <tr>\n",
       "      <th>2</th>\n",
       "      <td>1522901487</td>\n",
       "      <td>1545098</td>\n",
       "      <td>2684357998</td>\n",
       "      <td>14423</td>\n",
       "    </tr>\n",
       "    <tr>\n",
       "      <th>3</th>\n",
       "      <td>1522901487</td>\n",
       "      <td>1545098</td>\n",
       "      <td>2684357998</td>\n",
       "      <td>16546</td>\n",
       "    </tr>\n",
       "    <tr>\n",
       "      <th>4</th>\n",
       "      <td>1522901487</td>\n",
       "      <td>1545098</td>\n",
       "      <td>2684357998</td>\n",
       "      <td>16865</td>\n",
       "    </tr>\n",
       "    <tr>\n",
       "      <th>5</th>\n",
       "      <td>1522901487</td>\n",
       "      <td>1545098</td>\n",
       "      <td>2684357998</td>\n",
       "      <td>17566</td>\n",
       "    </tr>\n",
       "    <tr>\n",
       "      <th>6</th>\n",
       "      <td>1522901487</td>\n",
       "      <td>1545098</td>\n",
       "      <td>2684357998</td>\n",
       "      <td>19975</td>\n",
       "    </tr>\n",
       "    <tr>\n",
       "      <th>7</th>\n",
       "      <td>1522901487</td>\n",
       "      <td>1545098</td>\n",
       "      <td>2684357998</td>\n",
       "      <td>24988</td>\n",
       "    </tr>\n",
       "    <tr>\n",
       "      <th>8</th>\n",
       "      <td>1522901487</td>\n",
       "      <td>1545098</td>\n",
       "      <td>2684357998</td>\n",
       "      <td>27186</td>\n",
       "    </tr>\n",
       "    <tr>\n",
       "      <th>9</th>\n",
       "      <td>1522901487</td>\n",
       "      <td>1545098</td>\n",
       "      <td>2684357998</td>\n",
       "      <td>27796</td>\n",
       "    </tr>\n",
       "    <tr>\n",
       "      <th>10</th>\n",
       "      <td>1522901487</td>\n",
       "      <td>1545098</td>\n",
       "      <td>2684357998</td>\n",
       "      <td>30751</td>\n",
       "    </tr>\n",
       "    <tr>\n",
       "      <th>11</th>\n",
       "      <td>1522901487</td>\n",
       "      <td>1545098</td>\n",
       "      <td>2684357998</td>\n",
       "      <td>3800</td>\n",
       "    </tr>\n",
       "    <tr>\n",
       "      <th>12</th>\n",
       "      <td>1522901487</td>\n",
       "      <td>1545098</td>\n",
       "      <td>2684357998</td>\n",
       "      <td>7071</td>\n",
       "    </tr>\n",
       "    <tr>\n",
       "      <th>13</th>\n",
       "      <td>1522901487</td>\n",
       "      <td>1545098</td>\n",
       "      <td>2684357998</td>\n",
       "      <td>8118</td>\n",
       "    </tr>\n",
       "    <tr>\n",
       "      <th>14</th>\n",
       "      <td>1523003051</td>\n",
       "      <td>1546000</td>\n",
       "      <td>570430823</td>\n",
       "      <td>10003</td>\n",
       "    </tr>\n",
       "    <tr>\n",
       "      <th>15</th>\n",
       "      <td>1523003051</td>\n",
       "      <td>1546000</td>\n",
       "      <td>570430823</td>\n",
       "      <td>10011</td>\n",
       "    </tr>\n",
       "    <tr>\n",
       "      <th>16</th>\n",
       "      <td>1523003051</td>\n",
       "      <td>1546000</td>\n",
       "      <td>570430823</td>\n",
       "      <td>10129</td>\n",
       "    </tr>\n",
       "    <tr>\n",
       "      <th>17</th>\n",
       "      <td>1523003051</td>\n",
       "      <td>1546000</td>\n",
       "      <td>570430823</td>\n",
       "      <td>10306</td>\n",
       "    </tr>\n",
       "    <tr>\n",
       "      <th>18</th>\n",
       "      <td>1523003051</td>\n",
       "      <td>1546000</td>\n",
       "      <td>570430823</td>\n",
       "      <td>10364</td>\n",
       "    </tr>\n",
       "    <tr>\n",
       "      <th>19</th>\n",
       "      <td>1523003051</td>\n",
       "      <td>1546000</td>\n",
       "      <td>570430823</td>\n",
       "      <td>10397</td>\n",
       "    </tr>\n",
       "  </tbody>\n",
       "</table>\n",
       "</div>"
      ],
      "text/plain": [
       "    block_time  block_height  block_nonce  block_random\n",
       "0   1522901487       1545098   2684357998         11314\n",
       "1   1522901487       1545098   2684357998         11935\n",
       "2   1522901487       1545098   2684357998         14423\n",
       "3   1522901487       1545098   2684357998         16546\n",
       "4   1522901487       1545098   2684357998         16865\n",
       "5   1522901487       1545098   2684357998         17566\n",
       "6   1522901487       1545098   2684357998         19975\n",
       "7   1522901487       1545098   2684357998         24988\n",
       "8   1522901487       1545098   2684357998         27186\n",
       "9   1522901487       1545098   2684357998         27796\n",
       "10  1522901487       1545098   2684357998         30751\n",
       "11  1522901487       1545098   2684357998          3800\n",
       "12  1522901487       1545098   2684357998          7071\n",
       "13  1522901487       1545098   2684357998          8118\n",
       "14  1523003051       1546000    570430823         10003\n",
       "15  1523003051       1546000    570430823         10011\n",
       "16  1523003051       1546000    570430823         10129\n",
       "17  1523003051       1546000    570430823         10306\n",
       "18  1523003051       1546000    570430823         10364\n",
       "19  1523003051       1546000    570430823         10397"
      ]
     },
     "execution_count": 4,
     "metadata": {},
     "output_type": "execute_result"
    }
   ],
   "source": [
    "print(type(b1s_raw))\n",
    "b1s_raw[0:20]"
   ]
  },
  {
   "cell_type": "markdown",
   "metadata": {},
   "source": [
    "## De-duplicate"
   ]
  },
  {
   "cell_type": "code",
   "execution_count": 5,
   "metadata": {},
   "outputs": [
    {
     "data": {
      "text/html": [
       "<div>\n",
       "<style scoped>\n",
       "    .dataframe tbody tr th:only-of-type {\n",
       "        vertical-align: middle;\n",
       "    }\n",
       "\n",
       "    .dataframe tbody tr th {\n",
       "        vertical-align: top;\n",
       "    }\n",
       "\n",
       "    .dataframe thead th {\n",
       "        text-align: right;\n",
       "    }\n",
       "</style>\n",
       "<table border=\"1\" class=\"dataframe\">\n",
       "  <thead>\n",
       "    <tr style=\"text-align: right;\">\n",
       "      <th></th>\n",
       "      <th>block_time</th>\n",
       "      <th>block_height</th>\n",
       "      <th>block_nonce</th>\n",
       "    </tr>\n",
       "  </thead>\n",
       "  <tbody>\n",
       "    <tr>\n",
       "      <th>0</th>\n",
       "      <td>1522901487</td>\n",
       "      <td>1545098</td>\n",
       "      <td>2684357998</td>\n",
       "    </tr>\n",
       "    <tr>\n",
       "      <th>14</th>\n",
       "      <td>1523003051</td>\n",
       "      <td>1546000</td>\n",
       "      <td>570430823</td>\n",
       "    </tr>\n",
       "    <tr>\n",
       "      <th>648</th>\n",
       "      <td>1523337099</td>\n",
       "      <td>1547963</td>\n",
       "      <td>2139397</td>\n",
       "    </tr>\n",
       "    <tr>\n",
       "      <th>650</th>\n",
       "      <td>1525032170</td>\n",
       "      <td>1562061</td>\n",
       "      <td>3579158795</td>\n",
       "    </tr>\n",
       "    <tr>\n",
       "      <th>655</th>\n",
       "      <td>1525032261</td>\n",
       "      <td>1562062</td>\n",
       "      <td>2970728396</td>\n",
       "    </tr>\n",
       "    <tr>\n",
       "      <th>660</th>\n",
       "      <td>1525219207</td>\n",
       "      <td>1563626</td>\n",
       "      <td>668103</td>\n",
       "    </tr>\n",
       "    <tr>\n",
       "      <th>661</th>\n",
       "      <td>1525470502</td>\n",
       "      <td>1565690</td>\n",
       "      <td>589661</td>\n",
       "    </tr>\n",
       "    <tr>\n",
       "      <th>667</th>\n",
       "      <td>1525470534</td>\n",
       "      <td>1565691</td>\n",
       "      <td>358009781</td>\n",
       "    </tr>\n",
       "    <tr>\n",
       "      <th>673</th>\n",
       "      <td>1525470959</td>\n",
       "      <td>1565692</td>\n",
       "      <td>2863312291</td>\n",
       "    </tr>\n",
       "    <tr>\n",
       "      <th>679</th>\n",
       "      <td>1525472810</td>\n",
       "      <td>1565693</td>\n",
       "      <td>1073825901</td>\n",
       "    </tr>\n",
       "    <tr>\n",
       "      <th>685</th>\n",
       "      <td>1525473108</td>\n",
       "      <td>1565694</td>\n",
       "      <td>20355</td>\n",
       "    </tr>\n",
       "    <tr>\n",
       "      <th>691</th>\n",
       "      <td>1525474474</td>\n",
       "      <td>1565695</td>\n",
       "      <td>4715644</td>\n",
       "    </tr>\n",
       "    <tr>\n",
       "      <th>697</th>\n",
       "      <td>1525474913</td>\n",
       "      <td>1565696</td>\n",
       "      <td>249376</td>\n",
       "    </tr>\n",
       "    <tr>\n",
       "      <th>703</th>\n",
       "      <td>1525474950</td>\n",
       "      <td>1565697</td>\n",
       "      <td>2668814428</td>\n",
       "    </tr>\n",
       "    <tr>\n",
       "      <th>709</th>\n",
       "      <td>1525475035</td>\n",
       "      <td>1565698</td>\n",
       "      <td>3095369266</td>\n",
       "    </tr>\n",
       "    <tr>\n",
       "      <th>715</th>\n",
       "      <td>1525477756</td>\n",
       "      <td>1565699</td>\n",
       "      <td>693214</td>\n",
       "    </tr>\n",
       "    <tr>\n",
       "      <th>721</th>\n",
       "      <td>1525477957</td>\n",
       "      <td>1565700</td>\n",
       "      <td>84006145</td>\n",
       "    </tr>\n",
       "    <tr>\n",
       "      <th>727</th>\n",
       "      <td>1525478266</td>\n",
       "      <td>1565701</td>\n",
       "      <td>5596918</td>\n",
       "    </tr>\n",
       "    <tr>\n",
       "      <th>733</th>\n",
       "      <td>1525478894</td>\n",
       "      <td>1565702</td>\n",
       "      <td>49559</td>\n",
       "    </tr>\n",
       "    <tr>\n",
       "      <th>739</th>\n",
       "      <td>1525480602</td>\n",
       "      <td>1565703</td>\n",
       "      <td>107129</td>\n",
       "    </tr>\n",
       "  </tbody>\n",
       "</table>\n",
       "</div>"
      ],
      "text/plain": [
       "     block_time  block_height  block_nonce\n",
       "0    1522901487       1545098   2684357998\n",
       "14   1523003051       1546000    570430823\n",
       "648  1523337099       1547963      2139397\n",
       "650  1525032170       1562061   3579158795\n",
       "655  1525032261       1562062   2970728396\n",
       "660  1525219207       1563626       668103\n",
       "661  1525470502       1565690       589661\n",
       "667  1525470534       1565691    358009781\n",
       "673  1525470959       1565692   2863312291\n",
       "679  1525472810       1565693   1073825901\n",
       "685  1525473108       1565694        20355\n",
       "691  1525474474       1565695      4715644\n",
       "697  1525474913       1565696       249376\n",
       "703  1525474950       1565697   2668814428\n",
       "709  1525475035       1565698   3095369266\n",
       "715  1525477756       1565699       693214\n",
       "721  1525477957       1565700     84006145\n",
       "727  1525478266       1565701      5596918\n",
       "733  1525478894       1565702        49559\n",
       "739  1525480602       1565703       107129"
      ]
     },
     "execution_count": 5,
     "metadata": {},
     "output_type": "execute_result"
    }
   ],
   "source": [
    "b0s.drop(['block_random'],1,inplace=True)\n",
    "b0s=b0s.drop_duplicates()\n",
    "\n",
    "b1s.drop(['block_random'],1,inplace=True)\n",
    "b1s=b1s.drop_duplicates()\n",
    "b1s[0:20]"
   ]
  },
  {
   "cell_type": "markdown",
   "metadata": {},
   "source": [
    "## Generate differenece coulmns"
   ]
  },
  {
   "cell_type": "code",
   "execution_count": 6,
   "metadata": {},
   "outputs": [],
   "source": [
    "b0s['delta_height'] = b0s['block_height']-b0s['block_height'].shift()\n",
    "b0s['delta_time'] = b0s['block_time']-b0s['block_time'].shift()\n",
    "\n",
    "b1s['delta_height'] = b1s['block_height']-b1s['block_height'].shift()\n",
    "b1s['delta_time'] = b1s['block_time']-b1s['block_time'].shift()"
   ]
  },
  {
   "cell_type": "markdown",
   "metadata": {},
   "source": [
    "## Drop rows with jumps (delta_height > 1)"
   ]
  },
  {
   "cell_type": "code",
   "execution_count": 52,
   "metadata": {},
   "outputs": [],
   "source": [
    "b0s = b0s[b0s.delta_height == 1]\n",
    "b1s = b1s[b1s.delta_height == 1]"
   ]
  },
  {
   "cell_type": "markdown",
   "metadata": {},
   "source": [
    "## What are we left with?"
   ]
  },
  {
   "cell_type": "code",
   "execution_count": 55,
   "metadata": {},
   "outputs": [
    {
     "name": "stdout",
     "output_type": "stream",
     "text": [
      "Retained 16486 main-chain blocks\n",
      "Retained 186 side-chain blocks\n"
     ]
    }
   ],
   "source": [
    "print('Retained ' + str(len(b0s)) + ' main-chain blocks')\n",
    "print('Retained ' + str(len(b1s)) + ' side-chain blocks')"
   ]
  },
  {
   "cell_type": "markdown",
   "metadata": {},
   "source": [
    "## Study block times"
   ]
  },
  {
   "cell_type": "code",
   "execution_count": 25,
   "metadata": {},
   "outputs": [
    {
     "name": "stdout",
     "output_type": "stream",
     "text": [
      "Main-chain blocks come with mean time: 117 seconds = 1.9 min\n",
      "Side-chain blocks come with mean time: 5538 seconds = 92.3 min\n"
     ]
    }
   ],
   "source": [
    "b0_mean_time_s = np.mean(b0s.delta_time)\n",
    "b1_mean_time_s = np.mean(b1s.delta_time)\n",
    "\n",
    "print('Main-chain blocks come with mean time: ' + str(round(b0_mean_time_s)) + ' seconds = ' + str(round(b0_mean_time_s/60,1)) + ' min')\n",
    "print('Side-chain blocks come with mean time: ' + str(round(b1_mean_time_s)) + ' seconds = ' + str(round(b1_mean_time_s/60,1)) + ' min')"
   ]
  },
  {
   "cell_type": "markdown",
   "metadata": {},
   "source": [
    "### Visualize In terms of seconds"
   ]
  },
  {
   "cell_type": "code",
   "execution_count": 84,
   "metadata": {},
   "outputs": [
    {
     "data": {
      "image/png": "[encoded data removed]",
      "text/plain": [
       "<Figure size 1080x1080 with 2 Axes>"
      ]
     },
     "metadata": {},
     "output_type": "display_data"
    }
   ],
   "source": [
    "fig = plt.figure(figsize=(15,15))\n",
    "ax1 = fig.add_subplot(211)\n",
    "ax1.set_xlabel('time (seconds)')\n",
    "ax1.set_ylabel('frequency')\n",
    "ax1.set_title('discovery rate of sequential main-chain blocks')\n",
    "plt.hist(b0s.delta_time, bins=range(0,600,5))\n",
    "ax2 = fig.add_subplot(212)\n",
    "plt.hist(b1s.delta_time, bins=range(0,50000,2000))\n",
    "ax2.set_xlabel('time (seconds)')\n",
    "ax2.set_ylabel('frequency')\n",
    "ax2.set_title('discovery rate of sequential side-chain blocks')\n",
    "pass"
   ]
  },
  {
   "cell_type": "markdown",
   "metadata": {},
   "source": [
    "### In terms of \"normal block time\" i.e. mean of b0s.delta_height"
   ]
  },
  {
   "cell_type": "code",
   "execution_count": 85,
   "metadata": {},
   "outputs": [
    {
     "data": {
      "text/plain": [
       "Text(0.5,1,'discovery rate of sequential side-chain blocks, normalized to 120 s')"
      ]
     },
     "execution_count": 85,
     "metadata": {},
     "output_type": "execute_result"
    },
    {
     "data": {
      "image/png": "[encoded data removed]",
      "text/plain": [
       "<Figure size 1080x1080 with 2 Axes>"
      ]
     },
     "metadata": {},
     "output_type": "display_data"
    }
   ],
   "source": [
    "fig = plt.figure(figsize=(15,15))\n",
    "ax1 = fig.add_subplot(211)\n",
    "plt.hist(b0s.delta_time/b0_mean_time_s, bins=np.linspace(0,6,50))\n",
    "ax1.set_xlabel('time (per normal block time)')\n",
    "ax1.set_ylabel('frequency')\n",
    "ax1.set_title('discovery rate of sequential main-chain blocks, normalized to 120 s')\n",
    "\n",
    "\n",
    "\n",
    "ax2 = fig.add_subplot(212)\n",
    "plt.hist(b1s.delta_time/b0_mean_time_s, bins=np.linspace(0,500,250))\n",
    "ax2.set_xlabel('time (per normal block time)')\n",
    "ax2.set_ylabel('frequency')\n",
    "ax2.set_title('discovery rate of sequential side-chain blocks, normalized to 120 s')"
   ]
  },
  {
   "cell_type": "markdown",
   "metadata": {},
   "source": [
    "## Plot discovery time as a function of length of side chain"
   ]
  },
  {
   "cell_type": "code",
   "execution_count": null,
   "metadata": {},
   "outputs": [],
   "source": [
    "pass"
   ]
  }
 ],
 "metadata": {
  "kernelspec": {
   "display_name": "Python 3",
   "language": "python",
   "name": "python3"
  },
  "language_info": {
   "codemirror_mode": {
    "name": "ipython",
    "version": 3
   },
   "file_extension": ".py",
   "mimetype": "text/x-python",
   "name": "python",
   "nbconvert_exporter": "python",
   "pygments_lexer": "ipython3",
   "version": "3.6.5"
  }
 },
 "nbformat": 4,
 "nbformat_minor": 2
}
