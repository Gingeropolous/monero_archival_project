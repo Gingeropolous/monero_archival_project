{
 "cells": [
  {
   "cell_type": "markdown",
   "metadata": {},
   "source": [
    "# Statistical study of alternative blocks/chains\n",
    "\n",
    "Analysis by IsthmusCrypto for the [Monero Archival Project](https://github.com/mitchellpkt/monero_archival_project), a product of *#Noncesense-research-lab*\n",
    "\n",
    "This notebook investigates various phenomena related to mining of orphaned blocks and side chains. This data was collected by a MAP archival node, running a customized daemon modified by [NeptuneResearch](https://github.com/neptuneresearch).\n",
    "\n",
    "You can jump to the **Results** section if you want to skip data import and cleaning/engineering.\n",
    "\n",
    "### Background\n",
    "See CuriousInventor's 5-minute [non-technical introduction](https://www.youtube.com/watch?v=t5JGQXCTe3c) to Bitcoin, for a review of why forks in the blockchain can occur naturally, and how they are resolved by the concensus mechanism.\n",
    "\n",
    "We will see several instances of these benign latency-induced forks, along with different side-chain events from different mechanisms.\n",
    "\n",
    "Monero aims for a 2-minute block time, by adjusting the 'difficulty' for the solutions. Since there is a heavy element of chance involved in mining, some intervals between blocks will be shorter/longer than 2-minutes.\n",
    "\n",
    "### Conventions\n",
    "The data in this analysis is already separated into blocks that became the main chain (\"block0\") and blocks were part of abandoned chains (\"block1\"). The block0 data is not recorded at heights with an alternate block. (*note to self, check for exceptions*)\n",
    "\n",
    "The \"random\" field exists to differentiate each time a copy of a block is received (e.g. multiple times from multiple peers). Being able to distinguish between instances is important for latency studies, but not for the scope of this notebook, so it is dropped and de-duped."
   ]
  },
  {
   "cell_type": "markdown",
   "metadata": {},
   "source": [
    "# Preliminaries"
   ]
  },
  {
   "cell_type": "markdown",
   "metadata": {},
   "source": [
    "## Where are files saved?"
   ]
  },
  {
   "cell_type": "code",
   "execution_count": 1,
   "metadata": {},
   "outputs": [],
   "source": [
    "block0s_relative_path = 'data_for_analysis/block0s.txt'\n",
    "block1s_relative_path = 'data_for_analysis/block1s.txt'"
   ]
  },
  {
   "cell_type": "markdown",
   "metadata": {},
   "source": [
    "## Import libraries"
   ]
  },
  {
   "cell_type": "code",
   "execution_count": 2,
   "metadata": {},
   "outputs": [],
   "source": [
    "from copy import copy\n",
    "import time\n",
    "import datetime\n",
    "import pandas as pd\n",
    "import numpy as np\n",
    "import matplotlib.pyplot as plt"
   ]
  },
  {
   "cell_type": "markdown",
   "metadata": {},
   "source": [
    "## Disable auto-scroll"
   ]
  },
  {
   "cell_type": "code",
   "execution_count": 3,
   "metadata": {},
   "outputs": [
    {
     "data": {
      "application/javascript": [
       "IPython.OutputArea.prototype._should_scroll = function(lines) {\n",
       "    return false;\n",
       "}"
      ],
      "text/plain": [
       "<IPython.core.display.Javascript object>"
      ]
     },
     "metadata": {},
     "output_type": "display_data"
    }
   ],
   "source": [
    "%%javascript\n",
    "IPython.OutputArea.prototype._should_scroll = function(lines) {\n",
    "    return false;\n",
    "}"
   ]
  },
  {
   "cell_type": "markdown",
   "metadata": {},
   "source": [
    "# Import and pre-process data\n",
    "\n",
    "Two separate pandas DataFrames are used, `b0s` for main chain, and `b1s` for blocks that were abandoned"
   ]
  },
  {
   "cell_type": "markdown",
   "metadata": {},
   "source": [
    "### Read in from CSV"
   ]
  },
  {
   "cell_type": "code",
   "execution_count": 4,
   "metadata": {},
   "outputs": [],
   "source": [
    "# Read in the raw data from CSV files\n",
    "b0s = pd.read_csv(block0s_relative_path)\n",
    "b1s = pd.read_csv(block1s_relative_path)\n",
    "\n",
    "# Sort the rows by height\n",
    "b0s = b0s.sort_values('block_height')\n",
    "b1s = b1s.sort_values('block_height')\n"
   ]
  },
  {
   "cell_type": "markdown",
   "metadata": {},
   "source": [
    "### De-dupe\n",
    "\n",
    "Because the MAP nodes record *every* instance that a block was received, most heights contain multiple copies from different peers. Each copy is identical, and stamped with a different `block_random`\n",
    "\n",
    "For the purposes of this analysis/notebook, we only need one copy of each block.\n",
    "\n",
    "Take a peek for current duplicaties:"
   ]
  },
  {
   "cell_type": "code",
   "execution_count": 5,
   "metadata": {},
   "outputs": [
    {
     "data": {
      "text/html": [
       "<div>\n",
       "<style scoped>\n",
       "    .dataframe tbody tr th:only-of-type {\n",
       "        vertical-align: middle;\n",
       "    }\n",
       "\n",
       "    .dataframe tbody tr th {\n",
       "        vertical-align: top;\n",
       "    }\n",
       "\n",
       "    .dataframe thead th {\n",
       "        text-align: right;\n",
       "    }\n",
       "</style>\n",
       "<table border=\"1\" class=\"dataframe\">\n",
       "  <thead>\n",
       "    <tr style=\"text-align: right;\">\n",
       "      <th></th>\n",
       "      <th>block_time</th>\n",
       "      <th>block_height</th>\n",
       "      <th>block_nonce</th>\n",
       "      <th>block_random</th>\n",
       "    </tr>\n",
       "  </thead>\n",
       "  <tbody>\n",
       "    <tr>\n",
       "      <th>0</th>\n",
       "      <td>1522901487</td>\n",
       "      <td>1545098</td>\n",
       "      <td>2684357998</td>\n",
       "      <td>11314</td>\n",
       "    </tr>\n",
       "    <tr>\n",
       "      <th>13</th>\n",
       "      <td>1522901487</td>\n",
       "      <td>1545098</td>\n",
       "      <td>2684357998</td>\n",
       "      <td>8118</td>\n",
       "    </tr>\n",
       "    <tr>\n",
       "      <th>12</th>\n",
       "      <td>1522901487</td>\n",
       "      <td>1545098</td>\n",
       "      <td>2684357998</td>\n",
       "      <td>7071</td>\n",
       "    </tr>\n",
       "    <tr>\n",
       "      <th>11</th>\n",
       "      <td>1522901487</td>\n",
       "      <td>1545098</td>\n",
       "      <td>2684357998</td>\n",
       "      <td>3800</td>\n",
       "    </tr>\n",
       "    <tr>\n",
       "      <th>9</th>\n",
       "      <td>1522901487</td>\n",
       "      <td>1545098</td>\n",
       "      <td>2684357998</td>\n",
       "      <td>27796</td>\n",
       "    </tr>\n",
       "    <tr>\n",
       "      <th>8</th>\n",
       "      <td>1522901487</td>\n",
       "      <td>1545098</td>\n",
       "      <td>2684357998</td>\n",
       "      <td>27186</td>\n",
       "    </tr>\n",
       "    <tr>\n",
       "      <th>7</th>\n",
       "      <td>1522901487</td>\n",
       "      <td>1545098</td>\n",
       "      <td>2684357998</td>\n",
       "      <td>24988</td>\n",
       "    </tr>\n",
       "    <tr>\n",
       "      <th>10</th>\n",
       "      <td>1522901487</td>\n",
       "      <td>1545098</td>\n",
       "      <td>2684357998</td>\n",
       "      <td>30751</td>\n",
       "    </tr>\n",
       "    <tr>\n",
       "      <th>5</th>\n",
       "      <td>1522901487</td>\n",
       "      <td>1545098</td>\n",
       "      <td>2684357998</td>\n",
       "      <td>17566</td>\n",
       "    </tr>\n",
       "    <tr>\n",
       "      <th>4</th>\n",
       "      <td>1522901487</td>\n",
       "      <td>1545098</td>\n",
       "      <td>2684357998</td>\n",
       "      <td>16865</td>\n",
       "    </tr>\n",
       "    <tr>\n",
       "      <th>3</th>\n",
       "      <td>1522901487</td>\n",
       "      <td>1545098</td>\n",
       "      <td>2684357998</td>\n",
       "      <td>16546</td>\n",
       "    </tr>\n",
       "    <tr>\n",
       "      <th>2</th>\n",
       "      <td>1522901487</td>\n",
       "      <td>1545098</td>\n",
       "      <td>2684357998</td>\n",
       "      <td>14423</td>\n",
       "    </tr>\n",
       "    <tr>\n",
       "      <th>1</th>\n",
       "      <td>1522901487</td>\n",
       "      <td>1545098</td>\n",
       "      <td>2684357998</td>\n",
       "      <td>11935</td>\n",
       "    </tr>\n",
       "    <tr>\n",
       "      <th>6</th>\n",
       "      <td>1522901487</td>\n",
       "      <td>1545098</td>\n",
       "      <td>2684357998</td>\n",
       "      <td>19975</td>\n",
       "    </tr>\n",
       "    <tr>\n",
       "      <th>439</th>\n",
       "      <td>1523003051</td>\n",
       "      <td>1546000</td>\n",
       "      <td>570430823</td>\n",
       "      <td>29280</td>\n",
       "    </tr>\n",
       "    <tr>\n",
       "      <th>434</th>\n",
       "      <td>1523003051</td>\n",
       "      <td>1546000</td>\n",
       "      <td>570430823</td>\n",
       "      <td>29149</td>\n",
       "    </tr>\n",
       "    <tr>\n",
       "      <th>435</th>\n",
       "      <td>1523003051</td>\n",
       "      <td>1546000</td>\n",
       "      <td>570430823</td>\n",
       "      <td>29153</td>\n",
       "    </tr>\n",
       "    <tr>\n",
       "      <th>436</th>\n",
       "      <td>1523003051</td>\n",
       "      <td>1546000</td>\n",
       "      <td>570430823</td>\n",
       "      <td>29177</td>\n",
       "    </tr>\n",
       "    <tr>\n",
       "      <th>437</th>\n",
       "      <td>1523003051</td>\n",
       "      <td>1546000</td>\n",
       "      <td>570430823</td>\n",
       "      <td>29232</td>\n",
       "    </tr>\n",
       "    <tr>\n",
       "      <th>438</th>\n",
       "      <td>1523003051</td>\n",
       "      <td>1546000</td>\n",
       "      <td>570430823</td>\n",
       "      <td>29271</td>\n",
       "    </tr>\n",
       "  </tbody>\n",
       "</table>\n",
       "</div>"
      ],
      "text/plain": [
       "     block_time  block_height  block_nonce  block_random\n",
       "0    1522901487       1545098   2684357998         11314\n",
       "13   1522901487       1545098   2684357998          8118\n",
       "12   1522901487       1545098   2684357998          7071\n",
       "11   1522901487       1545098   2684357998          3800\n",
       "9    1522901487       1545098   2684357998         27796\n",
       "8    1522901487       1545098   2684357998         27186\n",
       "7    1522901487       1545098   2684357998         24988\n",
       "10   1522901487       1545098   2684357998         30751\n",
       "5    1522901487       1545098   2684357998         17566\n",
       "4    1522901487       1545098   2684357998         16865\n",
       "3    1522901487       1545098   2684357998         16546\n",
       "2    1522901487       1545098   2684357998         14423\n",
       "1    1522901487       1545098   2684357998         11935\n",
       "6    1522901487       1545098   2684357998         19975\n",
       "439  1523003051       1546000    570430823         29280\n",
       "434  1523003051       1546000    570430823         29149\n",
       "435  1523003051       1546000    570430823         29153\n",
       "436  1523003051       1546000    570430823         29177\n",
       "437  1523003051       1546000    570430823         29232\n",
       "438  1523003051       1546000    570430823         29271"
      ]
     },
     "metadata": {},
     "output_type": "display_data"
    }
   ],
   "source": [
    "display(b1s[0:20])"
   ]
  },
  {
   "cell_type": "markdown",
   "metadata": {},
   "source": [
    "First we remove the `block_random` *column*, so that multiple copies become indistinguishable."
   ]
  },
  {
   "cell_type": "code",
   "execution_count": 6,
   "metadata": {},
   "outputs": [],
   "source": [
    "b0s.drop(['block_random'],1,inplace=True)\n",
    "b1s.drop(['block_random'],1,inplace=True)"
   ]
  },
  {
   "cell_type": "markdown",
   "metadata": {},
   "source": [
    "Then drop the duplicate *rows*"
   ]
  },
  {
   "cell_type": "code",
   "execution_count": 7,
   "metadata": {},
   "outputs": [
    {
     "data": {
      "text/html": [
       "<div>\n",
       "<style scoped>\n",
       "    .dataframe tbody tr th:only-of-type {\n",
       "        vertical-align: middle;\n",
       "    }\n",
       "\n",
       "    .dataframe tbody tr th {\n",
       "        vertical-align: top;\n",
       "    }\n",
       "\n",
       "    .dataframe thead th {\n",
       "        text-align: right;\n",
       "    }\n",
       "</style>\n",
       "<table border=\"1\" class=\"dataframe\">\n",
       "  <thead>\n",
       "    <tr style=\"text-align: right;\">\n",
       "      <th></th>\n",
       "      <th>block_time</th>\n",
       "      <th>block_height</th>\n",
       "      <th>block_nonce</th>\n",
       "    </tr>\n",
       "  </thead>\n",
       "  <tbody>\n",
       "    <tr>\n",
       "      <th>0</th>\n",
       "      <td>1522901487</td>\n",
       "      <td>1545098</td>\n",
       "      <td>2684357998</td>\n",
       "    </tr>\n",
       "    <tr>\n",
       "      <th>439</th>\n",
       "      <td>1523003051</td>\n",
       "      <td>1546000</td>\n",
       "      <td>570430823</td>\n",
       "    </tr>\n",
       "    <tr>\n",
       "      <th>648</th>\n",
       "      <td>1523337099</td>\n",
       "      <td>1547963</td>\n",
       "      <td>2139397</td>\n",
       "    </tr>\n",
       "    <tr>\n",
       "      <th>654</th>\n",
       "      <td>1525032170</td>\n",
       "      <td>1562061</td>\n",
       "      <td>3579158795</td>\n",
       "    </tr>\n",
       "    <tr>\n",
       "      <th>655</th>\n",
       "      <td>1525032261</td>\n",
       "      <td>1562062</td>\n",
       "      <td>2970728396</td>\n",
       "    </tr>\n",
       "    <tr>\n",
       "      <th>660</th>\n",
       "      <td>1525219207</td>\n",
       "      <td>1563626</td>\n",
       "      <td>668103</td>\n",
       "    </tr>\n",
       "    <tr>\n",
       "      <th>666</th>\n",
       "      <td>1525470502</td>\n",
       "      <td>1565690</td>\n",
       "      <td>589661</td>\n",
       "    </tr>\n",
       "    <tr>\n",
       "      <th>667</th>\n",
       "      <td>1525470534</td>\n",
       "      <td>1565691</td>\n",
       "      <td>358009781</td>\n",
       "    </tr>\n",
       "    <tr>\n",
       "      <th>678</th>\n",
       "      <td>1525470959</td>\n",
       "      <td>1565692</td>\n",
       "      <td>2863312291</td>\n",
       "    </tr>\n",
       "    <tr>\n",
       "      <th>679</th>\n",
       "      <td>1525472810</td>\n",
       "      <td>1565693</td>\n",
       "      <td>1073825901</td>\n",
       "    </tr>\n",
       "    <tr>\n",
       "      <th>689</th>\n",
       "      <td>1525473108</td>\n",
       "      <td>1565694</td>\n",
       "      <td>20355</td>\n",
       "    </tr>\n",
       "    <tr>\n",
       "      <th>691</th>\n",
       "      <td>1525474474</td>\n",
       "      <td>1565695</td>\n",
       "      <td>4715644</td>\n",
       "    </tr>\n",
       "    <tr>\n",
       "      <th>702</th>\n",
       "      <td>1525474913</td>\n",
       "      <td>1565696</td>\n",
       "      <td>249376</td>\n",
       "    </tr>\n",
       "    <tr>\n",
       "      <th>706</th>\n",
       "      <td>1525474950</td>\n",
       "      <td>1565697</td>\n",
       "      <td>2668814428</td>\n",
       "    </tr>\n",
       "    <tr>\n",
       "      <th>709</th>\n",
       "      <td>1525475035</td>\n",
       "      <td>1565698</td>\n",
       "      <td>3095369266</td>\n",
       "    </tr>\n",
       "    <tr>\n",
       "      <th>715</th>\n",
       "      <td>1525477756</td>\n",
       "      <td>1565699</td>\n",
       "      <td>693214</td>\n",
       "    </tr>\n",
       "    <tr>\n",
       "      <th>725</th>\n",
       "      <td>1525477957</td>\n",
       "      <td>1565700</td>\n",
       "      <td>84006145</td>\n",
       "    </tr>\n",
       "    <tr>\n",
       "      <th>727</th>\n",
       "      <td>1525478266</td>\n",
       "      <td>1565701</td>\n",
       "      <td>5596918</td>\n",
       "    </tr>\n",
       "    <tr>\n",
       "      <th>738</th>\n",
       "      <td>1525478894</td>\n",
       "      <td>1565702</td>\n",
       "      <td>49559</td>\n",
       "    </tr>\n",
       "    <tr>\n",
       "      <th>739</th>\n",
       "      <td>1525480602</td>\n",
       "      <td>1565703</td>\n",
       "      <td>107129</td>\n",
       "    </tr>\n",
       "  </tbody>\n",
       "</table>\n",
       "</div>"
      ],
      "text/plain": [
       "     block_time  block_height  block_nonce\n",
       "0    1522901487       1545098   2684357998\n",
       "439  1523003051       1546000    570430823\n",
       "648  1523337099       1547963      2139397\n",
       "654  1525032170       1562061   3579158795\n",
       "655  1525032261       1562062   2970728396\n",
       "660  1525219207       1563626       668103\n",
       "666  1525470502       1565690       589661\n",
       "667  1525470534       1565691    358009781\n",
       "678  1525470959       1565692   2863312291\n",
       "679  1525472810       1565693   1073825901\n",
       "689  1525473108       1565694        20355\n",
       "691  1525474474       1565695      4715644\n",
       "702  1525474913       1565696       249376\n",
       "706  1525474950       1565697   2668814428\n",
       "709  1525475035       1565698   3095369266\n",
       "715  1525477756       1565699       693214\n",
       "725  1525477957       1565700     84006145\n",
       "727  1525478266       1565701      5596918\n",
       "738  1525478894       1565702        49559\n",
       "739  1525480602       1565703       107129"
      ]
     },
     "execution_count": 7,
     "metadata": {},
     "output_type": "execute_result"
    }
   ],
   "source": [
    "b0s=b0s.drop_duplicates()\n",
    "b1s=b1s.drop_duplicates()\n",
    "b1s[0:20]"
   ]
  },
  {
   "cell_type": "markdown",
   "metadata": {},
   "source": [
    "# Feature Engineering\n",
    "\n",
    "Rather than looking at raw block timestamps, we'll want to study derived features like the time between blocks, side chain lengths, etc."
   ]
  },
  {
   "cell_type": "markdown",
   "metadata": {},
   "source": [
    "## Generate difference columns\n",
    "\n",
    "`delta_time` is the timestamp difference between two blocks. `delta_height` marks the difference in height between subsequent rows of the DataFrame, used as an imperfect proxy for identifying breaks between different side chains."
   ]
  },
  {
   "cell_type": "code",
   "execution_count": 8,
   "metadata": {},
   "outputs": [],
   "source": [
    "b0s['delta_time'] = b0s['block_time']-b0s['block_time'].shift()\n",
    "b1s['delta_time'] = b1s['block_time']-b1s['block_time'].shift()\n",
    "\n",
    "b0s['delta_height'] = b0s['block_height']-b0s['block_height'].shift()\n",
    "b1s['delta_height'] = b1s['block_height']-b1s['block_height'].shift()"
   ]
  },
  {
   "cell_type": "markdown",
   "metadata": {},
   "source": [
    "### Drop rows with jumps (delta_height > 1)\n",
    "\n",
    "This is a crude temporary fix to deal with the fact that the first block in a side chain (or following a gap in `b0s`) will have an anomalous `delta_time` and `delta_height`. The *significant* downside is that this discards the first block of every side chain, and all of the orphaned blocks. \n",
    "\n",
    "A better approach would be to turn the rest of the values to NaNs (*to do*)"
   ]
  },
  {
   "cell_type": "code",
   "execution_count": 9,
   "metadata": {},
   "outputs": [],
   "source": [
    "b0s = b0s[b0s.delta_height == 1]\n",
    "b1s = b1s[b1s.delta_height == 1]"
   ]
  },
  {
   "cell_type": "markdown",
   "metadata": {},
   "source": [
    "### What are we left with?"
   ]
  },
  {
   "cell_type": "code",
   "execution_count": 10,
   "metadata": {},
   "outputs": [
    {
     "name": "stdout",
     "output_type": "stream",
     "text": [
      "Retained 17914 main-chain blocks\n",
      "Retained 190 side-chain blocks\n"
     ]
    }
   ],
   "source": [
    "print('Retained ' + str(len(b0s)) + ' main-chain blocks')\n",
    "print('Retained ' + str(len(b1s)) + ' side-chain blocks')"
   ]
  },
  {
   "cell_type": "markdown",
   "metadata": {},
   "source": [
    "## Label side chains"
   ]
  },
  {
   "cell_type": "markdown",
   "metadata": {},
   "source": [
    "### Initialize new labels and features:\n",
    "\n",
    "-  `side_chain_ID` assigns an arbitrary integer to identify each side chain. NOTE: there is a (bad) implicit assumption here alternate blocks at two subsequent heights belong to the same chain. Will be fixed in versions with linked blocks.\n",
    "-  `side_chain_length` records the length of the side chain (up to this point, not retroactively adjusted)\n",
    "-  `side_chain_time` records how long a given chain has been growing (based on spoofable miner-reported timestamp)\n",
    "-  `terminal_block` labels the 'end' block in each side chain. Subject to artifacts from the limitation noted for side_chain_ID."
   ]
  },
  {
   "cell_type": "code",
   "execution_count": 11,
   "metadata": {},
   "outputs": [
    {
     "name": "stderr",
     "output_type": "stream",
     "text": [
      "/home/m/anaconda3/lib/python3.6/site-packages/ipykernel_launcher.py:8: SettingWithCopyWarning: \n",
      "A value is trying to be set on a copy of a slice from a DataFrame\n",
      "\n",
      "See the caveats in the documentation: http://pandas.pydata.org/pandas-docs/stable/indexing.html#indexing-view-versus-copy\n",
      "  \n"
     ]
    },
    {
     "data": {
      "text/html": [
       "<div>\n",
       "<style scoped>\n",
       "    .dataframe tbody tr th:only-of-type {\n",
       "        vertical-align: middle;\n",
       "    }\n",
       "\n",
       "    .dataframe tbody tr th {\n",
       "        vertical-align: top;\n",
       "    }\n",
       "\n",
       "    .dataframe thead th {\n",
       "        text-align: right;\n",
       "    }\n",
       "</style>\n",
       "<table border=\"1\" class=\"dataframe\">\n",
       "  <thead>\n",
       "    <tr style=\"text-align: right;\">\n",
       "      <th></th>\n",
       "      <th>block_time</th>\n",
       "      <th>block_height</th>\n",
       "      <th>block_nonce</th>\n",
       "      <th>delta_time</th>\n",
       "      <th>side_chain_ID</th>\n",
       "      <th>side_chain_length</th>\n",
       "      <th>side_chain_time</th>\n",
       "      <th>terminal_block</th>\n",
       "    </tr>\n",
       "  </thead>\n",
       "  <tbody>\n",
       "    <tr>\n",
       "      <th>0</th>\n",
       "      <td>1525032261</td>\n",
       "      <td>1562062</td>\n",
       "      <td>2970728396</td>\n",
       "      <td>91.0</td>\n",
       "      <td>0</td>\n",
       "      <td>1.0</td>\n",
       "      <td>0</td>\n",
       "      <td>0</td>\n",
       "    </tr>\n",
       "    <tr>\n",
       "      <th>1</th>\n",
       "      <td>1525470534</td>\n",
       "      <td>1565691</td>\n",
       "      <td>358009781</td>\n",
       "      <td>32.0</td>\n",
       "      <td>0</td>\n",
       "      <td>3629.0</td>\n",
       "      <td>0</td>\n",
       "      <td>0</td>\n",
       "    </tr>\n",
       "    <tr>\n",
       "      <th>2</th>\n",
       "      <td>1525470959</td>\n",
       "      <td>1565692</td>\n",
       "      <td>2863312291</td>\n",
       "      <td>425.0</td>\n",
       "      <td>0</td>\n",
       "      <td>1.0</td>\n",
       "      <td>0</td>\n",
       "      <td>0</td>\n",
       "    </tr>\n",
       "    <tr>\n",
       "      <th>3</th>\n",
       "      <td>1525472810</td>\n",
       "      <td>1565693</td>\n",
       "      <td>1073825901</td>\n",
       "      <td>1851.0</td>\n",
       "      <td>0</td>\n",
       "      <td>1.0</td>\n",
       "      <td>0</td>\n",
       "      <td>0</td>\n",
       "    </tr>\n",
       "    <tr>\n",
       "      <th>4</th>\n",
       "      <td>1525473108</td>\n",
       "      <td>1565694</td>\n",
       "      <td>20355</td>\n",
       "      <td>298.0</td>\n",
       "      <td>0</td>\n",
       "      <td>1.0</td>\n",
       "      <td>0</td>\n",
       "      <td>0</td>\n",
       "    </tr>\n",
       "  </tbody>\n",
       "</table>\n",
       "</div>"
      ],
      "text/plain": [
       "   block_time  block_height  block_nonce  delta_time  side_chain_ID  \\\n",
       "0  1525032261       1562062   2970728396        91.0              0   \n",
       "1  1525470534       1565691    358009781        32.0              0   \n",
       "2  1525470959       1565692   2863312291       425.0              0   \n",
       "3  1525472810       1565693   1073825901      1851.0              0   \n",
       "4  1525473108       1565694        20355       298.0              0   \n",
       "\n",
       "   side_chain_length  side_chain_time  terminal_block  \n",
       "0                1.0                0               0  \n",
       "1             3629.0                0               0  \n",
       "2                1.0                0               0  \n",
       "3                1.0                0               0  \n",
       "4                1.0                0               0  "
      ]
     },
     "execution_count": 11,
     "metadata": {},
     "output_type": "execute_result"
    }
   ],
   "source": [
    "b1s['side_chain_ID'] = 0\n",
    "b1s['side_chain_length'] = b1s['block_height']-b1s['block_height'].shift() # how long did this side-chain get?\n",
    "b1s['side_chain_time'] = 0\n",
    "b1s['terminal_block']= 0 # is this the last block in the side-chain?\n",
    "\n",
    "b1s = b1s.reset_index()\n",
    "b1s.drop(['index','delta_height'], 1, inplace=True)\n",
    "b1s.side_chain_length[0] = 1 # since we don't know what preceded\n",
    "b1s.head()"
   ]
  },
  {
   "cell_type": "markdown",
   "metadata": {},
   "source": [
    "### Add new info\n",
    "\n",
    "Calculate accumulated side chain length/time, and label terminal blocks.\n",
    "\n",
    "Note that initialization of field `side_chain_length` produces some value > 1 for the first block, and = 1 for subsequent blocks. Below, this is converted into actual side chain lengths.\n",
    "\n",
    "Convention: starting side chains at length 1, appropriate since we dropped the first ones."
   ]
  },
  {
   "cell_type": "code",
   "execution_count": 12,
   "metadata": {},
   "outputs": [
    {
     "name": "stderr",
     "output_type": "stream",
     "text": [
      "/home/m/anaconda3/lib/python3.6/site-packages/ipykernel_launcher.py:14: SettingWithCopyWarning: \n",
      "A value is trying to be set on a copy of a slice from a DataFrame\n",
      "\n",
      "See the caveats in the documentation: http://pandas.pydata.org/pandas-docs/stable/indexing.html#indexing-view-versus-copy\n",
      "  \n",
      "/home/m/anaconda3/lib/python3.6/site-packages/ipykernel_launcher.py:15: SettingWithCopyWarning: \n",
      "A value is trying to be set on a copy of a slice from a DataFrame\n",
      "\n",
      "See the caveats in the documentation: http://pandas.pydata.org/pandas-docs/stable/indexing.html#indexing-view-versus-copy\n",
      "  from ipykernel import kernelapp as app\n",
      "/home/m/anaconda3/lib/python3.6/site-packages/ipykernel_launcher.py:17: SettingWithCopyWarning: \n",
      "A value is trying to be set on a copy of a slice from a DataFrame\n",
      "\n",
      "See the caveats in the documentation: http://pandas.pydata.org/pandas-docs/stable/indexing.html#indexing-view-versus-copy\n",
      "/home/m/anaconda3/lib/python3.6/site-packages/ipykernel_launcher.py:21: SettingWithCopyWarning: \n",
      "A value is trying to be set on a copy of a slice from a DataFrame\n",
      "\n",
      "See the caveats in the documentation: http://pandas.pydata.org/pandas-docs/stable/indexing.html#indexing-view-versus-copy\n",
      "/home/m/anaconda3/lib/python3.6/site-packages/ipykernel_launcher.py:23: SettingWithCopyWarning: \n",
      "A value is trying to be set on a copy of a slice from a DataFrame\n",
      "\n",
      "See the caveats in the documentation: http://pandas.pydata.org/pandas-docs/stable/indexing.html#indexing-view-versus-copy\n",
      "/home/m/anaconda3/lib/python3.6/site-packages/ipykernel_launcher.py:24: SettingWithCopyWarning: \n",
      "A value is trying to be set on a copy of a slice from a DataFrame\n",
      "\n",
      "See the caveats in the documentation: http://pandas.pydata.org/pandas-docs/stable/indexing.html#indexing-view-versus-copy\n"
     ]
    }
   ],
   "source": [
    "side_chain_counter = 0\n",
    "\n",
    "# Loop over rows = blocks\n",
    "for index, row in b1s.iterrows():\n",
    "    \n",
    "    this_row_val = b1s.side_chain_length[index] # extract current (dummy) label\n",
    "    \n",
    "    # If you want extra details:\n",
    "    # print('index: ' + str(index) + ' this_row_val: ' + str(this_row_val))\n",
    "    \n",
    "    # Check whether this is the first block in the chain, or further down\n",
    "    if this_row_val > 1:\n",
    "        # first block in the side-chain\n",
    "        b1s.side_chain_length[index] = 1\n",
    "        b1s.terminal_block[index-1] = 1 # if this is the first block, the last one was terminal on the previous chain\n",
    "        side_chain_counter = side_chain_counter + 1 # increment the counter\n",
    "        b1s.side_chain_ID[index] = side_chain_counter # mark the counter\n",
    "    else:\n",
    "        # subsequent block\n",
    "        if index > 0:\n",
    "            b1s.side_chain_length[index] = b1s.side_chain_length[index-1]+1\n",
    "            delta_t_seconds = b1s.block_time[index] - b1s.block_time[index-1]\n",
    "            b1s.side_chain_time[index] = b1s.side_chain_time[index-1] + delta_t_seconds\n",
    "            b1s.side_chain_ID[index] = side_chain_counter"
   ]
  },
  {
   "cell_type": "markdown",
   "metadata": {},
   "source": [
    "# Results"
   ]
  },
  {
   "cell_type": "markdown",
   "metadata": {},
   "source": [
    "## General block interval study\n",
    "\n",
    "Let's take a look at the intervals between blocks, for both the main and side chains. "
   ]
  },
  {
   "cell_type": "markdown",
   "metadata": {},
   "source": [
    "What is the *average* interval between blocks? "
   ]
  },
  {
   "cell_type": "code",
   "execution_count": 13,
   "metadata": {},
   "outputs": [
    {
     "name": "stdout",
     "output_type": "stream",
     "text": [
      "Main-chain blocks come with mean time: 120 seconds = 2.0 min\n",
      "Side-chain blocks come with mean time: 6254 seconds = 104.2 min\n"
     ]
    }
   ],
   "source": [
    "b0_mean_time_s = np.mean(b0s.delta_time)\n",
    "b1_mean_time_s = np.mean(b1s.delta_time)\n",
    "\n",
    "print('Main-chain blocks come with mean time: ' + str(round(b0_mean_time_s)) + ' seconds = ' + str(round(b0_mean_time_s/60,1)) + ' min')\n",
    "print('Side-chain blocks come with mean time: ' + str(round(b1_mean_time_s)) + ' seconds = ' + str(round(b1_mean_time_s/60,1)) + ' min')"
   ]
  },
  {
   "cell_type": "markdown",
   "metadata": {},
   "source": [
    "The main chain blocks are 2 minutes apart, on average. This is what we expect, and is a good validation.\n",
    "\n",
    "The side chain blocks come at VERY long intervals. The (not-representative) average is almost two hours! "
   ]
  },
  {
   "cell_type": "markdown",
   "metadata": {},
   "source": [
    "### Visualize block discovery time"
   ]
  },
  {
   "cell_type": "code",
   "execution_count": 14,
   "metadata": {
    "scrolled": true
   },
   "outputs": [
    {
     "data": {
      "image/png": "[encoded data removed]",
      "text/plain": [
       "<Figure size 1080x1080 with 2 Axes>"
      ]
     },
     "metadata": {},
     "output_type": "display_data"
    }
   ],
   "source": [
    "fig = plt.figure(figsize=(15,15))\n",
    "ax1 = fig.add_subplot(211)\n",
    "ax1.set_xlabel('time (seconds)')\n",
    "ax1.set_ylabel('frequency')\n",
    "ax1.set_title('discovery time of sequential main-chain blocks')\n",
    "plt.hist(b0s.delta_time, bins=range(0,600,10))\n",
    "ax1.set_xlim((0,600))\n",
    "ax2 = fig.add_subplot(212)\n",
    "plt.hist(b1s.delta_time, bins=range(0,50000,250))\n",
    "ax2.set_xlabel('time (seconds)')\n",
    "ax2.set_ylabel('frequency')\n",
    "ax2.set_title('discovery time of sequential side-chain blocks')\n",
    "ax2.set_xlim((0,50000))\n",
    "pass"
   ]
  },
  {
   "cell_type": "markdown",
   "metadata": {},
   "source": [
    "**Main chain:**\n",
    "\n",
    "The top histogram (main chain) shows roughly the distribution that we would expect: long-tailed with a mean of 2 minutes. There seems to be some skew around 60 seconds, which is peculiar. \n",
    "\n",
    "Ittay Eyal and Emin Gün Sirer [point out](http://hackingdistributed.com/2014/01/15/detecting-selfish-mining/) that \"One could detect [[selfish mining](https://arxiv.org/pdf/1311.0243.pdf)] by looking at the timestamps on successive blocks in the blockchain. Since mining is essentially an independent random process, we'd expect the interblock time gap to be exponentially distributed. Any deviation from this expectation would be suggestive of selfish mining\"\n",
    "\n",
    "**Side chains:**\n",
    "\n",
    "The side-chain histogram shows mining on an entirely different timescale. Blocks are released very belatedly, often hours behind the preceding height.\n",
    "\n",
    "Note the x-scale in seconds, and the fact that the majority of side-chain blocks are minutes, hours, or days behind the preceding block. These blocks have NO chance of ever becoming the main chain. Something unusual is happening, and this figure captures multiple phenomena:\n",
    "\n",
    "-  Most of the natural latency-induced forks would appear in the bin around 120 seconds (2 minutes)\n",
    "\n",
    "-  Some of the single blocks with extreme times (e.g. ~ 50000 s = 1 month) are probably due to somebody solo mining a block by accident or for fun. \n",
    "\n",
    "-  There are many strong chains with blocks on the order of that are too long (e.g. 15 blocks) for the first case, and have too much hashpower for the second case."
   ]
  },
  {
   "cell_type": "markdown",
   "metadata": {},
   "source": [
    "## Investigate side chains\n",
    "\n",
    "Let's look at 24 of peculiar long side chains. The following plots will show how quickly each chain grew.\n"
   ]
  },
  {
   "cell_type": "markdown",
   "metadata": {},
   "source": [
    "### How long do these side chains persist?\n",
    "\n",
    "We expect lots of side chains with length 1 or 2 from natural causes. \n",
    "\n",
    "Is anybody out there dumping mining power into longer sidechains? We'll consider 'longer' in terms of height (top plot), and in terms of time (bottom plot)"
   ]
  },
  {
   "cell_type": "code",
   "execution_count": 15,
   "metadata": {},
   "outputs": [
    {
     "data": {
      "image/png": "[encoded data removed]",
      "text/plain": [
       "<Figure size 1080x1080 with 2 Axes>"
      ]
     },
     "metadata": {},
     "output_type": "display_data"
    }
   ],
   "source": [
    "fig = plt.figure(figsize=(15,15))\n",
    "ax1 = fig.add_subplot(211)\n",
    "ax1.set_xlabel('side-chain length')\n",
    "ax1.set_ylabel('frequency')\n",
    "ax1.set_title('How long are the side chains (length)')\n",
    "plt.hist(b1s.side_chain_length[b1s.terminal_block==1])\n",
    "\n",
    "ax2 = fig.add_subplot(212)\n",
    "plt.hist(b1s.side_chain_time[b1s.terminal_block==1],bins=range(0,65000,2500))\n",
    "ax2.set_xlabel('time (seconds)')\n",
    "ax2.set_ylabel('frequency')\n",
    "ax2.set_title('How long are the side chains (time)')\n",
    "pass"
   ]
  },
  {
   "cell_type": "markdown",
   "metadata": {},
   "source": [
    "Unexpectedly, there are lots of side chains being mined 10, 20, and 30 blocks deep (top plot).\n",
    "\n",
    "Some of these futile side chains are mined for weeks (bottom plot)\n",
    "\n",
    "Highly unnatural..."
   ]
  },
  {
   "cell_type": "markdown",
   "metadata": {},
   "source": [
    "## A closer look at the growth of side chains"
   ]
  },
  {
   "cell_type": "markdown",
   "metadata": {},
   "source": [
    "It is time to individually inspect different side chains, and see how fast they were produced. The plots below fingerprint the growth of each side chain.\n",
    "\n",
    "Each chain is colored/numbered differently. Each point shows a single block: the x-axis position indicates how long side chain has grown, and the y-axis position indicates the *cumulative* time that has gone into mining that particular side chain (calculated as the difference between the timestamp on this block and its first block).\n",
    "\n",
    "The speed with which a given entity can produce blocks for their sidechain is proportional to their hash power. This can be used to identify distinct signatures of different phenomena or entities! Two different long side chains that were mined on the same equipment will show up together on these plots, assuming that their hashrate hasn't changed between runs.\n",
    "\n",
    "The red line shows 2-minutes per block, so any entity producing blocks near that speed can feasibly overtake (and become) the main chain. The further a side chain is from the red line, the more astronomically improbable this becomes."
   ]
  },
  {
   "cell_type": "code",
   "execution_count": 16,
   "metadata": {},
   "outputs": [
    {
     "data": {
      "image/png": "[encoded data removed]",
      "text/plain": [
       "<Figure size 1000x600 with 1 Axes>"
      ]
     },
     "metadata": {},
     "output_type": "display_data"
    }
   ],
   "source": [
    "# Let's take a look at the first 20 blocks:\n",
    "max_chain_length = 20\n",
    "max_chain_time = 25000\n",
    "\n",
    "norm_block_time = 120 # seconds\n",
    "\n",
    "fig = plt.figure(figsize=(10,6), dpi=100)\n",
    "plt.scatter(b1s.side_chain_length, b1s.side_chain_time+1, c=b1s.side_chain_ID, cmap='tab20')\n",
    "fig.suptitle('Looking at side chain lengths and time, all blocks')\n",
    "plt.xlabel('Nth block of the side chain')\n",
    "plt.ylabel('Accumulated time (seconds)')\n",
    "plt.xlim((0,max_chain_length))\n",
    "plt.ylim((0,max_chain_time))\n",
    "\n",
    "for i, txt in enumerate(b1s.side_chain_ID):\n",
    "    # print(i)\n",
    "    X = b1s.side_chain_length[i]\n",
    "    Y = b1s.side_chain_time[i]\n",
    "    S = b1s.side_chain_ID[i]\n",
    "    # print(\"X = \" + str(X), \" // Y = \" + str(Y) + \" // S = \" + str(S))\n",
    "    if i > 0 and X <= max_chain_length and Y <= max_chain_time:\n",
    "        plt.text(X,Y,S)\n",
    "        \n",
    "# Add on a regular rate\n",
    "plt.plot((0,max_chain_length), (0, max_chain_length*norm_block_time), c='red')\n",
    "pass"
   ]
  },
  {
   "cell_type": "markdown",
   "metadata": {},
   "source": [
    "**Wow** there are several interesting things to note:\n",
    "\n",
    "Several of the side chains, separated by weeks, show the exact same signature in hashrate (e.g. #1 and #7) and presumably were produced by the same equipment\n",
    "\n",
    "Side chain #6 produced the first 8 blocks at approximately 2 minutes per block! This could indicate two things:\n",
    "-  A side chain came within a razor's edge of overtaking the main chain\n",
    "-  A side chain DID overtake the main chain (!!!) so the original version is marked as \"alternate\" here\n",
    "\n",
    "Something seems to cause the chains to lose steam about 7 or 8 blocks in. This could be a coincidence from looking at a small number of examples, but seems prominent in #1, #4, #6, #7. Equipment overheating??\n",
    "\n",
    "Who could have that much hash power? And these are all since July after we were supposedly rid of ASICs.\n",
    "\n",
    "Absurdly, one of the side chains was 70 blocks long, with an average of a four hour block discovery time. \n",
    "-  To reliably mine at ~ 4 hr/block the entity must have around 1% of total network hashrate!\n",
    "-  This single side chain would have used around 40,000 EUR worth of energy! \n",
    "\n",
    "That is not something that an unlucky amateur miner would accidentally overlook. Here's a zoomed-out version of the above plot:"
   ]
  },
  {
   "cell_type": "code",
   "execution_count": 17,
   "metadata": {},
   "outputs": [
    {
     "data": {
      "image/png": "[encoded data removed]",
      "text/plain": [
       "<Figure size 400x400 with 1 Axes>"
      ]
     },
     "metadata": {},
     "output_type": "display_data"
    }
   ],
   "source": [
    "fig = plt.figure(figsize=(4,4), dpi=100)\n",
    "plt.scatter(b1s.side_chain_length, b1s.side_chain_time+1, c=b1s.side_chain_ID, cmap='tab10')\n",
    "fig.suptitle('Looking at side chain lengths and time, all blocks')\n",
    "plt.xlabel('Nth block of the side chain')\n",
    "plt.ylabel('Accumulated time (seconds)')\n",
    "plt.axis('tight')\n",
    "pass"
   ]
  },
  {
   "cell_type": "markdown",
   "metadata": {},
   "source": [
    "## Summarization of the side chains\n",
    "\n",
    "Quickly spitting out some text data so I can cross-reference these side chains against mining timing on the main chain."
   ]
  },
  {
   "cell_type": "code",
   "execution_count": 18,
   "metadata": {},
   "outputs": [
    {
     "name": "stdout",
     "output_type": "stream",
     "text": [
      "Side chain #0 median time: 2018-04-29 15:04:21\n",
      "\t... started at height 1562062\n",
      "\n",
      "Side chain #1 median time: 2018-05-07 08:38:58\n",
      "\t... started at height 1565691\n",
      "\n",
      "Side chain #2 median time: 2018-05-05 20:01:52\n",
      "\t... started at height 1566501\n",
      "\n",
      "Side chain #3 median time: 2018-05-06 10:09:31\n",
      "\t... started at height 1566909\n",
      "\n",
      "Side chain #4 median time: 2018-05-08 18:28:32\n",
      "\t... started at height 1568537\n",
      "\n",
      "Side chain #5 median time: 2018-05-17 01:15:15\n",
      "\t... started at height 1574527\n",
      "\n",
      "Side chain #6 median time: 2018-05-23 03:01:54\n",
      "\t... started at height 1578848\n",
      "\n",
      "Side chain #7 median time: 2018-05-25 03:19:34\n",
      "\t... started at height 1580197\n",
      "\n",
      "Side chain #8 median time: 2018-05-27 11:06:31\n",
      "\t... started at height 1581882\n",
      "\n",
      "Side chain #9 median time: 2018-05-29 09:40:02\n",
      "\t... started at height 1583267\n",
      "\n",
      "Side chain #10 median time: 2018-05-30 22:37:53\n",
      "\t... started at height 1584465\n",
      "\n",
      "Side chain #11 median time: 2018-06-03 21:17:59\n",
      "\t... started at height 1587294\n",
      "\n",
      "Side chain #12 median time: 2018-06-07 11:28:04\n",
      "\t... started at height 1589927\n",
      "\n",
      "Side chain #13 median time: 2018-06-10 03:45:01\n",
      "\t... started at height 1591845\n",
      "\n",
      "Side chain #14 median time: 2018-06-10 11:32:49\n",
      "\t... started at height 1592057\n",
      "\n",
      "Side chain #15 median time: 2018-06-11 12:10:44\n",
      "\t... started at height 1592781\n",
      "\n",
      "Side chain #16 median time: 2018-06-12 10:41:59\n",
      "\t... started at height 1593454\n",
      "\n",
      "Side chain #17 median time: 2018-06-13 01:08:38\n",
      "\t... started at height 1593866\n",
      "\n",
      "Side chain #18 median time: 2018-06-16 19:17:06\n",
      "\t... started at height 1596550\n",
      "\n",
      "Side chain #19 median time: 2018-06-17 14:31:25\n",
      "\t... started at height 1597200\n",
      "\n",
      "Side chain #20 median time: 2018-06-17 15:37:13\n",
      "\t... started at height 1597232\n",
      "\n",
      "Side chain #21 median time: 2018-06-18 20:49:51\n",
      "\t... started at height 1598111\n",
      "\n",
      "Side chain #22 median time: 2018-06-21 12:30:33\n",
      "\t... started at height 1599987\n",
      "\n",
      "Side chain #23 median time: 2018-06-27 09:16:26\n",
      "\t... started at height 1604269\n",
      "\n",
      "Side chain #24 median time: 2018-06-29 06:06:50\n",
      "\t... started at height 1605587\n",
      "\n"
     ]
    }
   ],
   "source": [
    "for i, x in enumerate(b1s.side_chain_ID.unique()):\n",
    "    #print('Side chain #' + str(i) + ' median time: ', + np.median(b1s.block_time[b1s.side_chain_ID==i]))\n",
    "    print('Side chain #' + str(i) + ' median time: ' + time.strftime('%Y-%m-%d %H:%M:%S', time.localtime(np.median(b1s.block_time[b1s.side_chain_ID==i]))))\n",
    "    print('\\t... started at height ' + str(min(b1s.block_height[b1s.side_chain_ID==i])) + '\\n')"
   ]
  },
  {
   "cell_type": "markdown",
   "metadata": {},
   "source": [
    "# Work in progress. Check back later for more excitement!"
   ]
  }
 ],
 "metadata": {
  "kernelspec": {
   "display_name": "Python 3",
   "language": "python",
   "name": "python3"
  },
  "language_info": {
   "codemirror_mode": {
    "name": "ipython",
    "version": 3
   },
   "file_extension": ".py",
   "mimetype": "text/x-python",
   "name": "python",
   "nbconvert_exporter": "python",
   "pygments_lexer": "ipython3",
   "version": "3.6.5"
  }
 },
 "nbformat": 4,
 "nbformat_minor": 2
}
